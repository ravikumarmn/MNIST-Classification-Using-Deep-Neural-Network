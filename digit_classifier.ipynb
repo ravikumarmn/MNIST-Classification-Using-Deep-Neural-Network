{
 "cells": [
  {
   "cell_type": "markdown",
   "metadata": {},
   "source": [
    "MNIST HAND DIGIT CLASSIFICATION USING DEEP NEURAL NETWORK BUILT USING NUMPY\n",
    "\n",
    "DATASET = https://www.kaggle.com/c/digit-recognizer\n",
    "\n",
    "Source code : https://github.com/ravikumarmn/MNIST-Classification-Using-Deep-Neural-Network"
   ]
  },
  {
   "cell_type": "code",
   "execution_count": 62,
   "metadata": {},
   "outputs": [],
   "source": [
    "import numpy as np\n",
    "import pandas as pd\n",
    "from matplotlib import pyplot as plt\n",
    "\n",
    "data = pd.read_csv(\"train.csv\")\n",
    "data = np.array(data)\n",
    "\n",
    "m, n = data.shape\n",
    "\n",
    "np.random.shuffle(data) \n",
    "\n",
    "data_dev = data[0:1000].T\n",
    "Y_dev = data_dev[0]\n",
    "X_dev = data_dev[1:n]\n",
    "X_dev = X_dev / 255.\n",
    "\n",
    "data_train = data[1000:m].T\n",
    "Y_train = data_train[0]\n",
    "X_train = data_train[1:n]\n",
    "X_train = X_train / 255.\n",
    "_,m_train = X_train.shape"
   ]
  },
  {
   "cell_type": "code",
   "execution_count": 80,
   "metadata": {},
   "outputs": [],
   "source": [
    "def init_params():\n",
    "    W1 = np.random.rand(10, 784) - 0.5\n",
    "    b1 = np.random.rand(10, 1) - 0.5\n",
    "    W2 = np.random.rand(10, 10) - 0.5\n",
    "    b2 = np.random.rand(10, 1) - 0.5\n",
    "    return W1, b1, W2, b2\n",
    "\n",
    "def ReLU(Z):\n",
    "    return np.maximum(Z, 0)\n",
    "\n",
    "def softmax(Z):\n",
    "    A = np.exp(Z) / sum(np.exp(Z))\n",
    "    return A\n",
    "    \n",
    "def forward_prop(W1, b1, W2, b2, X):\n",
    "    Z1 = W1.dot(X) + b1\n",
    "    A1 = ReLU(Z1)\n",
    "    Z2 = W2.dot(A1) + b2\n",
    "    A2 = softmax(Z2)\n",
    "    return Z1, A1, Z2, A2\n",
    "\n",
    "def ReLU_deriv(Z):\n",
    "    return Z > 0\n",
    "\n",
    "def one_hot(Y):\n",
    "    one_hot_Y = np.zeros((Y.size, Y.max() + 1))\n",
    "    one_hot_Y[np.arange(Y.size), Y] = 1\n",
    "    one_hot_Y = one_hot_Y.T\n",
    "    return one_hot_Y\n",
    "\n",
    "def backward_prop(Z1, A1, Z2, A2, W1, W2, X, Y):\n",
    "    one_hot_Y = one_hot(Y)\n",
    "    dZ2 = A2 - one_hot_Y\n",
    "    dW2 = 1 / m * dZ2.dot(A1.T)\n",
    "    db2 = 1 / m * np.sum(dZ2)\n",
    "    dZ1 = W2.T.dot(dZ2) * ReLU_deriv(Z1)\n",
    "    dW1 = 1 / m * dZ1.dot(X.T)\n",
    "    db1 = 1 / m * np.sum(dZ1)\n",
    "    return dW1, db1, dW2, db2\n",
    "def update_params(W1, b1, W2, b2, dW1, db1, dW2, db2, alpha):\n",
    "    W1 = W1 - alpha * dW1\n",
    "    b1 = b1 - alpha * db1    \n",
    "    W2 = W2 - alpha * dW2  \n",
    "    b2 = b2 - alpha * db2    \n",
    "    return W1, b1, W2, b2\n",
    "def get_predictions(A2):\n",
    "    return np.argmax(A2, 0)\n",
    "def get_accuracy(predictions, Y):\n",
    "    return np.sum(predictions == Y) / Y.size\n",
    "\n",
    "def gradient_descent(X, Y, alpha, iterations):\n",
    "    W1, b1, W2, b2 = init_params()\n",
    "    for i in range(iterations):\n",
    "        Z1, A1, Z2, A2 = forward_prop(W1, b1, W2, b2, X)\n",
    "        dW1, db1, dW2, db2 = backward_prop(Z1, A1, Z2, A2, W1, W2, X, Y)\n",
    "        W1, b1, W2, b2 = update_params(W1, b1, W2, b2, dW1, db1, dW2, db2, alpha)\n",
    "        if i % 10 == 0:\n",
    "            predictions = get_predictions(A2)\n",
    "            p = get_accuracy(predictions, Y)\n",
    "            print(\"Iteration : {} ---------- Accuracy : {} \".format(i,p))\n",
    "    return W1, b1, W2, b2"
   ]
  },
  {
   "cell_type": "code",
   "execution_count": 82,
   "metadata": {},
   "outputs": [
    {
     "name": "stdout",
     "output_type": "stream",
     "text": [
      "Iteration : 0 ---------- Accuracy : 0.14070731707317072 \n",
      "Iteration : 10 ---------- Accuracy : 0.1871951219512195 \n",
      "Iteration : 20 ---------- Accuracy : 0.23824390243902438 \n",
      "Iteration : 30 ---------- Accuracy : 0.29790243902439023 \n",
      "Iteration : 40 ---------- Accuracy : 0.3679268292682927 \n",
      "Iteration : 50 ---------- Accuracy : 0.42921951219512194 \n",
      "Iteration : 60 ---------- Accuracy : 0.4771463414634146 \n",
      "Iteration : 70 ---------- Accuracy : 0.5183414634146342 \n",
      "Iteration : 80 ---------- Accuracy : 0.553439024390244 \n",
      "Iteration : 90 ---------- Accuracy : 0.5831219512195122 \n",
      "Iteration : 100 ---------- Accuracy : 0.6083414634146341 \n",
      "Iteration : 110 ---------- Accuracy : 0.6290243902439024 \n",
      "Iteration : 120 ---------- Accuracy : 0.6469024390243903 \n",
      "Iteration : 130 ---------- Accuracy : 0.6622439024390244 \n",
      "Iteration : 140 ---------- Accuracy : 0.674439024390244 \n",
      "Iteration : 150 ---------- Accuracy : 0.6847317073170732 \n",
      "Iteration : 160 ---------- Accuracy : 0.6948536585365853 \n",
      "Iteration : 170 ---------- Accuracy : 0.7042682926829268 \n",
      "Iteration : 180 ---------- Accuracy : 0.7122926829268292 \n",
      "Iteration : 190 ---------- Accuracy : 0.7199756097560975 \n",
      "Iteration : 200 ---------- Accuracy : 0.7266341463414634 \n",
      "Iteration : 210 ---------- Accuracy : 0.7331951219512195 \n",
      "Iteration : 220 ---------- Accuracy : 0.7389024390243902 \n",
      "Iteration : 230 ---------- Accuracy : 0.7446341463414634 \n",
      "Iteration : 240 ---------- Accuracy : 0.7500243902439024 \n",
      "Iteration : 250 ---------- Accuracy : 0.7555853658536585 \n",
      "Iteration : 260 ---------- Accuracy : 0.761219512195122 \n",
      "Iteration : 270 ---------- Accuracy : 0.7652682926829268 \n",
      "Iteration : 280 ---------- Accuracy : 0.7699024390243903 \n",
      "Iteration : 290 ---------- Accuracy : 0.7744634146341464 \n",
      "Iteration : 300 ---------- Accuracy : 0.778219512195122 \n",
      "Iteration : 310 ---------- Accuracy : 0.7818780487804878 \n",
      "Iteration : 320 ---------- Accuracy : 0.7849512195121952 \n",
      "Iteration : 330 ---------- Accuracy : 0.7882926829268293 \n",
      "Iteration : 340 ---------- Accuracy : 0.7915609756097561 \n",
      "Iteration : 350 ---------- Accuracy : 0.7953658536585366 \n",
      "Iteration : 360 ---------- Accuracy : 0.798 \n",
      "Iteration : 370 ---------- Accuracy : 0.8008048780487805 \n",
      "Iteration : 380 ---------- Accuracy : 0.8033902439024391 \n",
      "Iteration : 390 ---------- Accuracy : 0.8067073170731708 \n",
      "Iteration : 400 ---------- Accuracy : 0.8093170731707318 \n",
      "Iteration : 410 ---------- Accuracy : 0.8120487804878049 \n",
      "Iteration : 420 ---------- Accuracy : 0.8139512195121951 \n",
      "Iteration : 430 ---------- Accuracy : 0.8166829268292682 \n",
      "Iteration : 440 ---------- Accuracy : 0.8182439024390243 \n",
      "Iteration : 450 ---------- Accuracy : 0.8199024390243902 \n",
      "Iteration : 460 ---------- Accuracy : 0.8220975609756097 \n",
      "Iteration : 470 ---------- Accuracy : 0.8240731707317073 \n",
      "Iteration : 480 ---------- Accuracy : 0.825780487804878 \n",
      "Iteration : 490 ---------- Accuracy : 0.8278536585365853 \n",
      "Iteration : 500 ---------- Accuracy : 0.829390243902439 \n",
      "Iteration : 510 ---------- Accuracy : 0.8309756097560975 \n",
      "Iteration : 520 ---------- Accuracy : 0.8320975609756097 \n",
      "Iteration : 530 ---------- Accuracy : 0.8336829268292683 \n",
      "Iteration : 540 ---------- Accuracy : 0.8352682926829268 \n",
      "Iteration : 550 ---------- Accuracy : 0.8367073170731707 \n",
      "Iteration : 560 ---------- Accuracy : 0.8380975609756097 \n",
      "Iteration : 570 ---------- Accuracy : 0.8395121951219512 \n",
      "Iteration : 580 ---------- Accuracy : 0.8407073170731707 \n",
      "Iteration : 590 ---------- Accuracy : 0.8416829268292683 \n",
      "Iteration : 600 ---------- Accuracy : 0.8428536585365853 \n",
      "Iteration : 610 ---------- Accuracy : 0.8435853658536585 \n",
      "Iteration : 620 ---------- Accuracy : 0.8447560975609756 \n",
      "Iteration : 630 ---------- Accuracy : 0.8461219512195122 \n",
      "Iteration : 640 ---------- Accuracy : 0.8470975609756097 \n",
      "Iteration : 650 ---------- Accuracy : 0.8480487804878049 \n",
      "Iteration : 660 ---------- Accuracy : 0.8488536585365853 \n",
      "Iteration : 670 ---------- Accuracy : 0.8499268292682927 \n",
      "Iteration : 680 ---------- Accuracy : 0.8507073170731707 \n",
      "Iteration : 690 ---------- Accuracy : 0.8514390243902439 \n"
     ]
    }
   ],
   "source": [
    "W1, b1, W2, b2 = gradient_descent(X_train, Y_train, 0.1, 700)"
   ]
  },
  {
   "cell_type": "code",
   "execution_count": 77,
   "metadata": {},
   "outputs": [],
   "source": [
    "def make_predictions(X, W1, b1, W2, b2):\n",
    "    _, _, _, A2 = forward_prop(W1, b1, W2, b2, X)\n",
    "    predictions = get_predictions(A2)\n",
    "    return predictions\n",
    "\n",
    "def test_prediction(index, W1, b1, W2, b2):\n",
    "    current_image = X_train[:, index, None]\n",
    "    prediction = make_predictions(X_train[:, index, None], W1, b1, W2, b2)\n",
    "    label = Y_train[index]\n",
    "    print(\"Prediction: \", prediction)\n",
    "    print(\"Label: \", label)\n",
    "    \n",
    "    current_image = current_image.reshape((28, 28)) * 255\n",
    "    plt.gray()\n",
    "    plt.imshow(current_image, interpolation='nearest')\n",
    "    plt.show()"
   ]
  },
  {
   "cell_type": "code",
   "execution_count": 78,
   "metadata": {},
   "outputs": [
    {
     "name": "stdout",
     "output_type": "stream",
     "text": [
      "Prediction:  [0]\n",
      "Label:  7\n"
     ]
    },
    {
     "data": {
      "image/png": "[encoded data removed]",
      "text/plain": [
       "<Figure size 432x288 with 1 Axes>"
      ]
     },
     "metadata": {
      "needs_background": "light"
     },
     "output_type": "display_data"
    },
    {
     "name": "stdout",
     "output_type": "stream",
     "text": [
      "Prediction:  [0]\n",
      "Label:  6\n"
     ]
    },
    {
     "data": {
      "image/png": "[encoded data removed]",
      "text/plain": [
       "<Figure size 432x288 with 1 Axes>"
      ]
     },
     "metadata": {
      "needs_background": "light"
     },
     "output_type": "display_data"
    },
    {
     "name": "stdout",
     "output_type": "stream",
     "text": [
      "Prediction:  [0]\n",
      "Label:  9\n"
     ]
    },
    {
     "data": {
      "image/png": "[encoded data removed]",
      "text/plain": [
       "<Figure size 432x288 with 1 Axes>"
      ]
     },
     "metadata": {
      "needs_background": "light"
     },
     "output_type": "display_data"
    },
    {
     "name": "stdout",
     "output_type": "stream",
     "text": [
      "Prediction:  [0]\n",
      "Label:  8\n"
     ]
    },
    {
     "data": {
      "image/png": "[encoded data removed]",
      "text/plain": [
       "<Figure size 432x288 with 1 Axes>"
      ]
     },
     "metadata": {
      "needs_background": "light"
     },
     "output_type": "display_data"
    }
   ],
   "source": [
    "test_prediction(0, W1, b1, W2, b2)\n",
    "test_prediction(1, W1, b1, W2, b2)\n",
    "test_prediction(2, W1, b1, W2, b2)\n",
    "test_prediction(3, W1, b1, W2, b2)"
   ]
  },
  {
   "cell_type": "code",
   "execution_count": null,
   "metadata": {},
   "outputs": [],
   "source": []
  }
 ],
 "metadata": {
  "interpreter": {
   "hash": "d5f9d56768e97eaeae4bbdde2020b6efd1df9b0561336800a84e0a20aebbb94a"
  },
  "kernelspec": {
   "display_name": "Python 3.8.8 64-bit ('flask_app': conda)",
   "language": "python",
   "name": "python3"
  },
  "language_info": {
   "codemirror_mode": {
    "name": "ipython",
    "version": 3
   },
   "file_extension": ".py",
   "mimetype": "text/x-python",
   "name": "python",
   "nbconvert_exporter": "python",
   "pygments_lexer": "ipython3",
   "version": "3.8.0"
  },
  "orig_nbformat": 4
 },
 "nbformat": 4,
 "nbformat_minor": 2
}
